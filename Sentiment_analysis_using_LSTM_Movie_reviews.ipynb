{
  "nbformat": 4,
  "nbformat_minor": 0,
  "metadata": {
    "colab": {
      "name": "Sentiment analysis using LSTM-Movie reviews.ipynb",
      "provenance": [],
      "collapsed_sections": []
    },
    "kernelspec": {
      "name": "python3",
      "display_name": "Python 3"
    },
    "accelerator": "GPU"
  },
  "cells": [
    {
      "cell_type": "markdown",
      "metadata": {
        "id": "kxfM78plcEzb"
      },
      "source": [
        "**Project Ojective:** To perform sentiment analysis on IMDB movie reviews data\n",
        "\n",
        "**Author:** Amarjeet S Cheema\n",
        "\n",
        "**Link to download the data:** https://www.kaggle.com/lakshmi25npathi/imdb-dataset-of-50k-movie-reviews\n"
      ]
    },
    {
      "cell_type": "code",
      "metadata": {
        "id": "RVZrgN-JyLPJ"
      },
      "source": [
        "#Import necessary libs\n",
        "import tensorflow as tf\n",
        "import tensorflow_hub as hub\n",
        "import pandas as pd\n"
      ],
      "execution_count": 3,
      "outputs": []
    },
    {
      "cell_type": "code",
      "metadata": {
        "id": "DG4ZpKP1yYBl",
        "colab": {
          "base_uri": "https://localhost:8080/",
          "height": 35
        },
        "outputId": "442a67dc-e9be-4668-9b20-b4278ee00111"
      },
      "source": [
        "#Check tensorflow version\n",
        "tf.__version__"
      ],
      "execution_count": 4,
      "outputs": [
        {
          "output_type": "execute_result",
          "data": {
            "application/vnd.google.colaboratory.intrinsic+json": {
              "type": "string"
            },
            "text/plain": [
              "'2.4.0'"
            ]
          },
          "metadata": {
            "tags": []
          },
          "execution_count": 4
        }
      ]
    },
    {
      "cell_type": "markdown",
      "metadata": {
        "id": "jUtT_qaCwd-e"
      },
      "source": [
        ""
      ]
    },
    {
      "cell_type": "code",
      "metadata": {
        "id": "F56jsMPiGVom"
      },
      "source": [
        "#Import necessary libs\n",
        "from tensorflow.keras.layers import Embedding\n",
        "from tensorflow.keras.preprocessing.sequence import pad_sequences\n",
        "from tensorflow.keras.models import Sequential\n",
        "from tensorflow.keras.preprocessing.text import one_hot\n",
        "from tensorflow.keras.layers import LSTM\n",
        "from tensorflow.keras.layers import Dense\n",
        "from tensorflow.keras.layers import Dropout"
      ],
      "execution_count": 5,
      "outputs": []
    },
    {
      "cell_type": "code",
      "metadata": {
        "id": "tRxuhwEU05x_"
      },
      "source": [
        "#Load the data to the dataframe\n",
        "data= pd.read_csv('/content/IMDB Dataset.csv')\n"
      ],
      "execution_count": 13,
      "outputs": []
    },
    {
      "cell_type": "code",
      "metadata": {
        "id": "DGC5sAuE5l_I",
        "colab": {
          "base_uri": "https://localhost:8080/",
          "height": 204
        },
        "outputId": "3d9c85fd-1059-4ba3-8c25-ae6581e14c57"
      },
      "source": [
        "#Check the data\n",
        "data.head()"
      ],
      "execution_count": 14,
      "outputs": [
        {
          "output_type": "execute_result",
          "data": {
            "text/html": [
              "<div>\n",
              "<style scoped>\n",
              "    .dataframe tbody tr th:only-of-type {\n",
              "        vertical-align: middle;\n",
              "    }\n",
              "\n",
              "    .dataframe tbody tr th {\n",
              "        vertical-align: top;\n",
              "    }\n",
              "\n",
              "    .dataframe thead th {\n",
              "        text-align: right;\n",
              "    }\n",
              "</style>\n",
              "<table border=\"1\" class=\"dataframe\">\n",
              "  <thead>\n",
              "    <tr style=\"text-align: right;\">\n",
              "      <th></th>\n",
              "      <th>review</th>\n",
              "      <th>sentiment</th>\n",
              "    </tr>\n",
              "  </thead>\n",
              "  <tbody>\n",
              "    <tr>\n",
              "      <th>0</th>\n",
              "      <td>One of the other reviewers has mentioned that ...</td>\n",
              "      <td>positive</td>\n",
              "    </tr>\n",
              "    <tr>\n",
              "      <th>1</th>\n",
              "      <td>A wonderful little production. &lt;br /&gt;&lt;br /&gt;The...</td>\n",
              "      <td>positive</td>\n",
              "    </tr>\n",
              "    <tr>\n",
              "      <th>2</th>\n",
              "      <td>I thought this was a wonderful way to spend ti...</td>\n",
              "      <td>positive</td>\n",
              "    </tr>\n",
              "    <tr>\n",
              "      <th>3</th>\n",
              "      <td>Basically there's a family where a little boy ...</td>\n",
              "      <td>negative</td>\n",
              "    </tr>\n",
              "    <tr>\n",
              "      <th>4</th>\n",
              "      <td>Petter Mattei's \"Love in the Time of Money\" is...</td>\n",
              "      <td>positive</td>\n",
              "    </tr>\n",
              "  </tbody>\n",
              "</table>\n",
              "</div>"
            ],
            "text/plain": [
              "                                              review sentiment\n",
              "0  One of the other reviewers has mentioned that ...  positive\n",
              "1  A wonderful little production. <br /><br />The...  positive\n",
              "2  I thought this was a wonderful way to spend ti...  positive\n",
              "3  Basically there's a family where a little boy ...  negative\n",
              "4  Petter Mattei's \"Love in the Time of Money\" is...  positive"
            ]
          },
          "metadata": {
            "tags": []
          },
          "execution_count": 14
        }
      ]
    },
    {
      "cell_type": "code",
      "metadata": {
        "id": "GyyAs-ikwsGv"
      },
      "source": [
        "#Create a copy of the original dataset to work on. this step is not mandatory\n",
        "df=data.copy()"
      ],
      "execution_count": 15,
      "outputs": []
    },
    {
      "cell_type": "code",
      "metadata": {
        "id": "W8ACYv-X7x0E"
      },
      "source": [
        "#Drop the rows which have na data\n",
        "df.dropna\n",
        "df.reset_index(inplace=True)"
      ],
      "execution_count": 16,
      "outputs": []
    },
    {
      "cell_type": "code",
      "metadata": {
        "id": "Mw_DtlVc7_21",
        "colab": {
          "base_uri": "https://localhost:8080/"
        },
        "outputId": "9c05d688-9c21-4d05-ac44-b19ff2e8c65b"
      },
      "source": [
        "#Separate Independent and Dependent variables\n",
        "X=df['review']\n",
        "X.head()"
      ],
      "execution_count": 17,
      "outputs": [
        {
          "output_type": "execute_result",
          "data": {
            "text/plain": [
              "0    One of the other reviewers has mentioned that ...\n",
              "1    A wonderful little production. <br /><br />The...\n",
              "2    I thought this was a wonderful way to spend ti...\n",
              "3    Basically there's a family where a little boy ...\n",
              "4    Petter Mattei's \"Love in the Time of Money\" is...\n",
              "Name: review, dtype: object"
            ]
          },
          "metadata": {
            "tags": []
          },
          "execution_count": 17
        }
      ]
    },
    {
      "cell_type": "code",
      "metadata": {
        "id": "CxiwFq3a8IsO",
        "colab": {
          "base_uri": "https://localhost:8080/"
        },
        "outputId": "ad83ea52-eee2-4c83-8913-99cb3c114803"
      },
      "source": [
        "#Separate Independent and Dependent variables\n",
        "y=df['sentiment']\n",
        "y.head()"
      ],
      "execution_count": 18,
      "outputs": [
        {
          "output_type": "execute_result",
          "data": {
            "text/plain": [
              "0    positive\n",
              "1    positive\n",
              "2    positive\n",
              "3    negative\n",
              "4    positive\n",
              "Name: sentiment, dtype: object"
            ]
          },
          "metadata": {
            "tags": []
          },
          "execution_count": 18
        }
      ]
    },
    {
      "cell_type": "code",
      "metadata": {
        "id": "9hRInIKm1LoQ",
        "colab": {
          "base_uri": "https://localhost:8080/",
          "height": 103
        },
        "outputId": "da2d2b78-3782-42e8-dd7d-657e836987f8"
      },
      "source": [
        "#Check a sample review\n",
        "df['review'][6]"
      ],
      "execution_count": 19,
      "outputs": [
        {
          "output_type": "execute_result",
          "data": {
            "application/vnd.google.colaboratory.intrinsic+json": {
              "type": "string"
            },
            "text/plain": [
              "\"I sure would like to see a resurrection of a up dated Seahunt series with the tech they have today it would bring back the kid excitement in me.I grew up on black and white TV and Seahunt with Gunsmoke were my hero's every week.You have my vote for a comeback of a new sea hunt.We need a change of pace in TV and this would work for a world of under water adventure.Oh by the way thank you for an outlet like this to view many viewpoints about TV and the many movies.So any ole way I believe I've got what I wanna say.Would be nice to read some more plus points about sea hunt.If my rhymes would be 10 lines would you let me submit,or leave me out to be in doubt and have me to quit,If this is so then I must go so lets do it.\""
            ]
          },
          "metadata": {
            "tags": []
          },
          "execution_count": 19
        }
      ]
    },
    {
      "cell_type": "code",
      "metadata": {
        "id": "xNDfit9h14Ej",
        "colab": {
          "base_uri": "https://localhost:8080/",
          "height": 204
        },
        "outputId": "bfc4319d-f8c2-408e-8e2b-c388e3f2d331"
      },
      "source": [
        "#check some rows using df.head()\n",
        "df.head()"
      ],
      "execution_count": 20,
      "outputs": [
        {
          "output_type": "execute_result",
          "data": {
            "text/html": [
              "<div>\n",
              "<style scoped>\n",
              "    .dataframe tbody tr th:only-of-type {\n",
              "        vertical-align: middle;\n",
              "    }\n",
              "\n",
              "    .dataframe tbody tr th {\n",
              "        vertical-align: top;\n",
              "    }\n",
              "\n",
              "    .dataframe thead th {\n",
              "        text-align: right;\n",
              "    }\n",
              "</style>\n",
              "<table border=\"1\" class=\"dataframe\">\n",
              "  <thead>\n",
              "    <tr style=\"text-align: right;\">\n",
              "      <th></th>\n",
              "      <th>index</th>\n",
              "      <th>review</th>\n",
              "      <th>sentiment</th>\n",
              "    </tr>\n",
              "  </thead>\n",
              "  <tbody>\n",
              "    <tr>\n",
              "      <th>0</th>\n",
              "      <td>0</td>\n",
              "      <td>One of the other reviewers has mentioned that ...</td>\n",
              "      <td>positive</td>\n",
              "    </tr>\n",
              "    <tr>\n",
              "      <th>1</th>\n",
              "      <td>1</td>\n",
              "      <td>A wonderful little production. &lt;br /&gt;&lt;br /&gt;The...</td>\n",
              "      <td>positive</td>\n",
              "    </tr>\n",
              "    <tr>\n",
              "      <th>2</th>\n",
              "      <td>2</td>\n",
              "      <td>I thought this was a wonderful way to spend ti...</td>\n",
              "      <td>positive</td>\n",
              "    </tr>\n",
              "    <tr>\n",
              "      <th>3</th>\n",
              "      <td>3</td>\n",
              "      <td>Basically there's a family where a little boy ...</td>\n",
              "      <td>negative</td>\n",
              "    </tr>\n",
              "    <tr>\n",
              "      <th>4</th>\n",
              "      <td>4</td>\n",
              "      <td>Petter Mattei's \"Love in the Time of Money\" is...</td>\n",
              "      <td>positive</td>\n",
              "    </tr>\n",
              "  </tbody>\n",
              "</table>\n",
              "</div>"
            ],
            "text/plain": [
              "   index                                             review sentiment\n",
              "0      0  One of the other reviewers has mentioned that ...  positive\n",
              "1      1  A wonderful little production. <br /><br />The...  positive\n",
              "2      2  I thought this was a wonderful way to spend ti...  positive\n",
              "3      3  Basically there's a family where a little boy ...  negative\n",
              "4      4  Petter Mattei's \"Love in the Time of Money\" is...  positive"
            ]
          },
          "metadata": {
            "tags": []
          },
          "execution_count": 20
        }
      ]
    },
    {
      "cell_type": "code",
      "metadata": {
        "id": "jnRGdwAX2fb-",
        "colab": {
          "base_uri": "https://localhost:8080/"
        },
        "outputId": "11bac8d6-cba5-4dd4-9624-1deaac8026f6"
      },
      "source": [
        "#Check the number of reviews\n",
        "len(df)"
      ],
      "execution_count": 21,
      "outputs": [
        {
          "output_type": "execute_result",
          "data": {
            "text/plain": [
              "50000"
            ]
          },
          "metadata": {
            "tags": []
          },
          "execution_count": 21
        }
      ]
    },
    {
      "cell_type": "code",
      "metadata": {
        "id": "FlyFwskP_VsF",
        "colab": {
          "base_uri": "https://localhost:8080/"
        },
        "outputId": "6c0fd383-3489-42be-9adf-9e41df996d94"
      },
      "source": [
        "#Download the stopwords from nltk - We only need to do this one time\n",
        "import nltk\n",
        "nltk.download('stopwords') \n"
      ],
      "execution_count": 22,
      "outputs": [
        {
          "output_type": "stream",
          "text": [
            "[nltk_data] Downloading package stopwords to /root/nltk_data...\n",
            "[nltk_data]   Unzipping corpora/stopwords.zip.\n"
          ],
          "name": "stdout"
        },
        {
          "output_type": "execute_result",
          "data": {
            "text/plain": [
              "True"
            ]
          },
          "metadata": {
            "tags": []
          },
          "execution_count": 22
        }
      ]
    },
    {
      "cell_type": "code",
      "metadata": {
        "id": "OJPxnZZX-n1K"
      },
      "source": [
        "#Very important data preprocessing\n",
        "from nltk.corpus import stopwords\n",
        "from nltk.stem.porter import PorterStemmer\n",
        "import re\n",
        "ps = PorterStemmer()\n",
        "corpus = []\n",
        "for i in range(0, len(df)):\n",
        "    review = re.sub('[^a-zA-Z]', ' ', df['review'][i]) # substitute all the characters other than a-zA-Z to a blank in each message\n",
        "    review = review.lower()\n",
        "    review = review.split() # splits the sentences into individual list of words\n",
        "    \n",
        "    review = [ps.stem(word) for word in review if not word in stopwords.words('english')] #Apply stemmer for all the words not in stopwoprd list\n",
        "    review = ' '.join(review) # Add the stemmed word to the orginal list with spaces in between instead of ''\n",
        "    corpus.append(review) # Add the word to the complete list of words i.e corpus\n",
        "    "
      ],
      "execution_count": null,
      "outputs": []
    },
    {
      "cell_type": "code",
      "metadata": {
        "id": "z7AaGcGZ-nxJ",
        "colab": {
          "base_uri": "https://localhost:8080/"
        },
        "outputId": "73c1c579-b185-45f8-cfb3-670025887fe6"
      },
      "source": [
        "#Again check the number of reviews\n",
        "len(corpus)"
      ],
      "execution_count": null,
      "outputs": [
        {
          "output_type": "execute_result",
          "data": {
            "text/plain": [
              "50000"
            ]
          },
          "metadata": {
            "tags": []
          },
          "execution_count": 85
        }
      ]
    },
    {
      "cell_type": "code",
      "metadata": {
        "id": "hmhfQTiI-nrx",
        "colab": {
          "base_uri": "https://localhost:8080/",
          "height": 120
        },
        "outputId": "d8bc9fb5-ee8e-4d19-a7b7-0101352e8160"
      },
      "source": [
        "##Check the first review after datapreprocessing\n",
        "corpus[0]"
      ],
      "execution_count": null,
      "outputs": [
        {
          "output_type": "execute_result",
          "data": {
            "application/vnd.google.colaboratory.intrinsic+json": {
              "type": "string"
            },
            "text/plain": [
              "'one review mention watch oz episod hook right exactli happen br br first thing struck oz brutal unflinch scene violenc set right word go trust show faint heart timid show pull punch regard drug sex violenc hardcor classic use word br br call oz nicknam given oswald maximum secur state penitentari focus mainli emerald citi experiment section prison cell glass front face inward privaci high agenda em citi home mani aryan muslim gangsta latino christian italian irish scuffl death stare dodgi deal shadi agreement never far away br br would say main appeal show due fact goe show dare forget pretti pictur paint mainstream audienc forget charm forget romanc oz mess around first episod ever saw struck nasti surreal say readi watch develop tast oz got accustom high level graphic violenc violenc injustic crook guard sold nickel inmat kill order get away well manner middl class inmat turn prison bitch due lack street skill prison experi watch oz may becom comfort uncomfort view that get touch darker side'"
            ]
          },
          "metadata": {
            "tags": []
          },
          "execution_count": 135
        }
      ]
    },
    {
      "cell_type": "code",
      "metadata": {
        "id": "l_iUITf6Gecj"
      },
      "source": [
        "### Set the Vocabulary size- depends on the programmer\n",
        "voc_size=5000"
      ],
      "execution_count": null,
      "outputs": []
    },
    {
      "cell_type": "code",
      "metadata": {
        "id": "uE1mkOve-nmP"
      },
      "source": [
        "#perform one hot encoding for each word to Return index of the words in corpus\n",
        "onehot_repr=[one_hot(words,voc_size)for words in corpus] \n"
      ],
      "execution_count": null,
      "outputs": []
    },
    {
      "cell_type": "code",
      "metadata": {
        "id": "OLlDaMH8-nbC"
      },
      "source": [
        "#Find the max length of the review\n",
        "le=[]\n",
        "for i in range(len(corpus)):\n",
        "  new = len(corpus[i])\n",
        "  le.append(new)"
      ],
      "execution_count": null,
      "outputs": []
    },
    {
      "cell_type": "code",
      "metadata": {
        "id": "CBdwDK82-ng4",
        "colab": {
          "base_uri": "https://localhost:8080/"
        },
        "outputId": "e8c44251-f232-4910-f919-560a3d9015cb"
      },
      "source": [
        "#Add 0 padding to match the review length\n",
        "sent_length=max(le)\n",
        "embedded_docs=pad_sequences(onehot_repr,padding='pre',maxlen=sent_length)\n",
        "print(embedded_docs)"
      ],
      "execution_count": null,
      "outputs": [
        {
          "output_type": "stream",
          "text": [
            "[[   0    0    0 ... 1199 3262 4214]\n",
            " [   0    0    0 ... 1427 1137 4254]\n",
            " [   0    0    0 ... 2108 3994 4339]\n",
            " ...\n",
            " [   0    0    0 ...  726  302 2973]\n",
            " [   0    0    0 ... 4926 2583 4084]\n",
            " [   0    0    0 ... 1047 4091 2589]]\n"
          ],
          "name": "stdout"
        }
      ]
    },
    {
      "cell_type": "markdown",
      "metadata": {
        "id": "hGkslH48es9O"
      },
      "source": [
        "## Remember guys keep checking your data after every step: it makes the debugging very easy"
      ]
    },
    {
      "cell_type": "code",
      "metadata": {
        "id": "3DlXIBcK-nTO",
        "colab": {
          "base_uri": "https://localhost:8080/",
          "height": 181
        },
        "outputId": "83c28802-3256-415b-ab84-2d6156caf88e"
      },
      "source": [
        "#Check the first review embedded doc after padding\n",
        "embedded_docs[0]"
      ],
      "execution_count": 2,
      "outputs": [
        {
          "output_type": "error",
          "ename": "NameError",
          "evalue": "ignored",
          "traceback": [
            "\u001b[0;31m---------------------------------------------------------------------------\u001b[0m",
            "\u001b[0;31mNameError\u001b[0m                                 Traceback (most recent call last)",
            "\u001b[0;32m<ipython-input-2-950003f697f5>\u001b[0m in \u001b[0;36m<module>\u001b[0;34m()\u001b[0m\n\u001b[1;32m      1\u001b[0m \u001b[0;31m#Check the first review embedded doc after padding\u001b[0m\u001b[0;34m\u001b[0m\u001b[0;34m\u001b[0m\u001b[0;34m\u001b[0m\u001b[0m\n\u001b[0;32m----> 2\u001b[0;31m \u001b[0membedded_docs\u001b[0m\u001b[0;34m[\u001b[0m\u001b[0;36m0\u001b[0m\u001b[0;34m]\u001b[0m\u001b[0;34m\u001b[0m\u001b[0;34m\u001b[0m\u001b[0m\n\u001b[0m",
            "\u001b[0;31mNameError\u001b[0m: name 'embedded_docs' is not defined"
          ]
        }
      ]
    },
    {
      "cell_type": "markdown",
      "metadata": {
        "id": "XJhjW2Hqfter"
      },
      "source": [
        "## **Create LSTM model from scratch**"
      ]
    },
    {
      "cell_type": "code",
      "metadata": {
        "id": "M0aKmFPKJZqF"
      },
      "source": [
        "embedding_vector_features=40 #every word will be converted to 40 dimension vecto\n",
        "model=Sequential() #Start building a seuential model\n",
        "model.add(Embedding(voc_size,embedding_vector_features,input_length=sent_length)) #Add aembedding layer by passing the given parameters\n",
        "model.add(Dropout(0.3)) #Add a dropout for regularization\n",
        "model.add(LSTM(100)) # Add a lstm layer with 100 neurons\n",
        "model.add(Dropout(0.3)) #Add a dropout for regularization\n",
        "model.add(Dense(1,activation='sigmoid')) #add a dense output layer with a sigmoid function to predict probabilities\n",
        "model.compile(loss='binary_crossentropy',optimizer='adam',metrics=['accuracy']) # Compile the model using adam optimizer\n",
        "print(model.summary()) #Check the model architecture"
      ],
      "execution_count": null,
      "outputs": []
    },
    {
      "cell_type": "code",
      "metadata": {
        "id": "mbepsT95-m4b",
        "colab": {
          "base_uri": "https://localhost:8080/"
        },
        "outputId": "cb4d7aa5-2306-48c4-91c5-932c74fb2145"
      },
      "source": [
        "#Check the number of review and number of labels\n",
        "len(embedded_docs),y.shape"
      ],
      "execution_count": null,
      "outputs": [
        {
          "output_type": "execute_result",
          "data": {
            "text/plain": [
              "(50000, (50000,))"
            ]
          },
          "metadata": {
            "tags": []
          },
          "execution_count": 117
        }
      ]
    },
    {
      "cell_type": "code",
      "metadata": {
        "id": "UgB25Cu5-mw3"
      },
      "source": [
        "#Convert the embedded_docs and y to array\n",
        "import numpy as np\n",
        "X_final=np.array(embedded_docs)\n",
        "y_final=np.array(y)"
      ],
      "execution_count": null,
      "outputs": []
    },
    {
      "cell_type": "code",
      "metadata": {
        "id": "BizEFyA8-mfz",
        "colab": {
          "base_uri": "https://localhost:8080/"
        },
        "outputId": "b52c803f-7fab-4060-90f3-97afef67efa2"
      },
      "source": [
        "#Check the shape\n",
        "X_final.shape,y_final.shape"
      ],
      "execution_count": null,
      "outputs": [
        {
          "output_type": "execute_result",
          "data": {
            "text/plain": [
              "((50000, 8350), (50000,))"
            ]
          },
          "metadata": {
            "tags": []
          },
          "execution_count": 136
        }
      ]
    },
    {
      "cell_type": "code",
      "metadata": {
        "id": "1nvPggDiNopQ",
        "colab": {
          "base_uri": "https://localhost:8080/"
        },
        "outputId": "73a217f3-e1da-4409-d4a1-faf9e45da6ec"
      },
      "source": [
        "#Check the target label\n",
        "y_final"
      ],
      "execution_count": null,
      "outputs": [
        {
          "output_type": "execute_result",
          "data": {
            "text/plain": [
              "array(['positive', 'positive', 'positive', ..., 'negative', 'negative',\n",
              "       'negative'], dtype=object)"
            ]
          },
          "metadata": {
            "tags": []
          },
          "execution_count": 139
        }
      ]
    },
    {
      "cell_type": "code",
      "metadata": {
        "id": "fEh9rLXQNGvq",
        "colab": {
          "base_uri": "https://localhost:8080/",
          "height": 419
        },
        "outputId": "706e16ec-f499-4fa2-d508-c96a47a23a7d"
      },
      "source": [
        "#Create dummies for categorical target label\n",
        "y_new= pd.get_dummies(y_final)\n"
      ],
      "execution_count": null,
      "outputs": [
        {
          "output_type": "execute_result",
          "data": {
            "text/html": [
              "<div>\n",
              "<style scoped>\n",
              "    .dataframe tbody tr th:only-of-type {\n",
              "        vertical-align: middle;\n",
              "    }\n",
              "\n",
              "    .dataframe tbody tr th {\n",
              "        vertical-align: top;\n",
              "    }\n",
              "\n",
              "    .dataframe thead th {\n",
              "        text-align: right;\n",
              "    }\n",
              "</style>\n",
              "<table border=\"1\" class=\"dataframe\">\n",
              "  <thead>\n",
              "    <tr style=\"text-align: right;\">\n",
              "      <th></th>\n",
              "      <th>negative</th>\n",
              "      <th>positive</th>\n",
              "    </tr>\n",
              "  </thead>\n",
              "  <tbody>\n",
              "    <tr>\n",
              "      <th>0</th>\n",
              "      <td>0</td>\n",
              "      <td>1</td>\n",
              "    </tr>\n",
              "    <tr>\n",
              "      <th>1</th>\n",
              "      <td>0</td>\n",
              "      <td>1</td>\n",
              "    </tr>\n",
              "    <tr>\n",
              "      <th>2</th>\n",
              "      <td>0</td>\n",
              "      <td>1</td>\n",
              "    </tr>\n",
              "    <tr>\n",
              "      <th>3</th>\n",
              "      <td>1</td>\n",
              "      <td>0</td>\n",
              "    </tr>\n",
              "    <tr>\n",
              "      <th>4</th>\n",
              "      <td>0</td>\n",
              "      <td>1</td>\n",
              "    </tr>\n",
              "    <tr>\n",
              "      <th>...</th>\n",
              "      <td>...</td>\n",
              "      <td>...</td>\n",
              "    </tr>\n",
              "    <tr>\n",
              "      <th>49995</th>\n",
              "      <td>0</td>\n",
              "      <td>1</td>\n",
              "    </tr>\n",
              "    <tr>\n",
              "      <th>49996</th>\n",
              "      <td>1</td>\n",
              "      <td>0</td>\n",
              "    </tr>\n",
              "    <tr>\n",
              "      <th>49997</th>\n",
              "      <td>1</td>\n",
              "      <td>0</td>\n",
              "    </tr>\n",
              "    <tr>\n",
              "      <th>49998</th>\n",
              "      <td>1</td>\n",
              "      <td>0</td>\n",
              "    </tr>\n",
              "    <tr>\n",
              "      <th>49999</th>\n",
              "      <td>1</td>\n",
              "      <td>0</td>\n",
              "    </tr>\n",
              "  </tbody>\n",
              "</table>\n",
              "<p>50000 rows × 2 columns</p>\n",
              "</div>"
            ],
            "text/plain": [
              "       negative  positive\n",
              "0             0         1\n",
              "1             0         1\n",
              "2             0         1\n",
              "3             1         0\n",
              "4             0         1\n",
              "...         ...       ...\n",
              "49995         0         1\n",
              "49996         1         0\n",
              "49997         1         0\n",
              "49998         1         0\n",
              "49999         1         0\n",
              "\n",
              "[50000 rows x 2 columns]"
            ]
          },
          "metadata": {
            "tags": []
          },
          "execution_count": 149
        }
      ]
    },
    {
      "cell_type": "code",
      "metadata": {
        "id": "YkfiPpb1PMev",
        "colab": {
          "base_uri": "https://localhost:8080/"
        },
        "outputId": "32c584c6-9913-4499-fded-b534fc470e2e"
      },
      "source": [
        "#Out of two choose any one as target variable\n",
        "y_label=y_new['positive'].to_numpy()\n",
        "y_label"
      ],
      "execution_count": null,
      "outputs": [
        {
          "output_type": "execute_result",
          "data": {
            "text/plain": [
              "array([1, 1, 1, ..., 0, 0, 0], dtype=uint8)"
            ]
          },
          "metadata": {
            "tags": []
          },
          "execution_count": 154
        }
      ]
    },
    {
      "cell_type": "code",
      "metadata": {
        "id": "0B7HRQedJZvq"
      },
      "source": [
        "#Test train split \n",
        "from sklearn.model_selection import train_test_split\n",
        "X_train, X_test, y_train, y_test = train_test_split(X_final, y_label, test_size=0.33, random_state=42)"
      ],
      "execution_count": null,
      "outputs": []
    },
    {
      "cell_type": "code",
      "metadata": {
        "id": "cx2Yu28sJZsx",
        "colab": {
          "base_uri": "https://localhost:8080/"
        },
        "outputId": "05e5533f-e586-4e53-b1f1-809835b31f61"
      },
      "source": [
        "# Train the model\n",
        "model.fit(X_train,y_train,validation_data=(X_test,y_test),epochs=10,batch_size=64)"
      ],
      "execution_count": null,
      "outputs": [
        {
          "output_type": "stream",
          "text": [
            "Epoch 1/10\n",
            "524/524 [==============================] - 233s 443ms/step - loss: 0.5274 - accuracy: 0.7242 - val_loss: 0.3258 - val_accuracy: 0.8633\n",
            "Epoch 2/10\n",
            "524/524 [==============================] - 231s 441ms/step - loss: 0.3128 - accuracy: 0.8728 - val_loss: 0.3236 - val_accuracy: 0.8590\n",
            "Epoch 3/10\n",
            "524/524 [==============================] - 231s 440ms/step - loss: 0.2734 - accuracy: 0.8922 - val_loss: 0.3430 - val_accuracy: 0.8587\n",
            "Epoch 4/10\n",
            "524/524 [==============================] - 233s 444ms/step - loss: 0.2551 - accuracy: 0.9004 - val_loss: 0.3368 - val_accuracy: 0.8587\n",
            "Epoch 5/10\n",
            "524/524 [==============================] - 232s 444ms/step - loss: 0.2397 - accuracy: 0.9067 - val_loss: 0.3653 - val_accuracy: 0.8608\n",
            "Epoch 6/10\n",
            "524/524 [==============================] - 233s 444ms/step - loss: 0.2165 - accuracy: 0.9160 - val_loss: 0.3535 - val_accuracy: 0.8604\n",
            "Epoch 7/10\n",
            "524/524 [==============================] - 232s 442ms/step - loss: 0.2027 - accuracy: 0.9211 - val_loss: 0.4798 - val_accuracy: 0.8470\n",
            "Epoch 8/10\n",
            "524/524 [==============================] - 232s 443ms/step - loss: 0.1995 - accuracy: 0.9262 - val_loss: 0.3673 - val_accuracy: 0.8556\n",
            "Epoch 9/10\n",
            "524/524 [==============================] - 232s 443ms/step - loss: 0.1864 - accuracy: 0.9279 - val_loss: 0.3959 - val_accuracy: 0.8506\n",
            "Epoch 10/10\n",
            "524/524 [==============================] - 232s 442ms/step - loss: 0.1588 - accuracy: 0.9411 - val_loss: 0.4250 - val_accuracy: 0.8559\n"
          ],
          "name": "stdout"
        },
        {
          "output_type": "execute_result",
          "data": {
            "text/plain": [
              "<tensorflow.python.keras.callbacks.History at 0x7f84fd8aa668>"
            ]
          },
          "metadata": {
            "tags": []
          },
          "execution_count": 158
        }
      ]
    },
    {
      "cell_type": "code",
      "metadata": {
        "id": "yOYCoNvwJZnW",
        "colab": {
          "base_uri": "https://localhost:8080/"
        },
        "outputId": "611242f6-25d7-4c4a-cfb0-a48bdbc03545"
      },
      "source": [
        "#Apply the model on the test data\n",
        "y_pred=model.predict_classes(X_test)\n"
      ],
      "execution_count": null,
      "outputs": [
        {
          "output_type": "stream",
          "text": [
            "/usr/local/lib/python3.6/dist-packages/tensorflow/python/keras/engine/sequential.py:450: UserWarning: `model.predict_classes()` is deprecated and will be removed after 2021-01-01. Please use instead:* `np.argmax(model.predict(x), axis=-1)`,   if your model does multi-class classification   (e.g. if it uses a `softmax` last-layer activation).* `(model.predict(x) > 0.5).astype(\"int32\")`,   if your model does binary classification   (e.g. if it uses a `sigmoid` last-layer activation).\n",
            "  warnings.warn('`model.predict_classes()` is deprecated and '\n"
          ],
          "name": "stderr"
        }
      ]
    },
    {
      "cell_type": "code",
      "metadata": {
        "id": "Sv8dB3hfJZkc"
      },
      "source": [
        "#Check the confusion metrix\n",
        "from sklearn.metrics import confusion_matrix\n",
        "confusion_matrix(y_test,y_pred)"
      ],
      "execution_count": null,
      "outputs": []
    },
    {
      "cell_type": "code",
      "metadata": {
        "id": "5ouBhm24JZVH",
        "colab": {
          "base_uri": "https://localhost:8080/"
        },
        "outputId": "8f54fc12-5aa0-461f-9fce-7d276e5ce464"
      },
      "source": [
        "#Check the accuracy of the model on teting data\n",
        "from sklearn.metrics import accuracy_score\n",
        "accuracy_score(y_test,y_pred)"
      ],
      "execution_count": null,
      "outputs": [
        {
          "output_type": "execute_result",
          "data": {
            "text/plain": [
              "0.8559393939393939"
            ]
          },
          "metadata": {
            "tags": []
          },
          "execution_count": 163
        }
      ]
    },
    {
      "cell_type": "markdown",
      "metadata": {
        "id": "NBJujW2oin3-"
      },
      "source": [
        "We can further improve the accuracy of the model by changing the hyperparameters and changing the deep neural architecture but we need better and faster resources for this. \n",
        "If you liked this project, kindly follow me at https://github.com/amarjeet-cheema"
      ]
    }
  ]
}